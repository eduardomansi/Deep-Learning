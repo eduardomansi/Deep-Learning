{
  "nbformat": 4,
  "nbformat_minor": 0,
  "metadata": {
    "colab": {
      "name": "MSIS549_HW3_RNN_ReutersEMM.ipynb",
      "provenance": [],
      "collapsed_sections": []
    },
    "kernelspec": {
      "name": "python3",
      "display_name": "Python 3"
    },
    "accelerator": "GPU"
  },
  "cells": [
    {
      "cell_type": "markdown",
      "metadata": {
        "id": "r2fyLhUMQlyH"
      },
      "source": [
        "# RNN to Classify Reuters Topics\n",
        "\n",
        "In this project, I will be training a recurrent neural network to Classify Reuters newswires into 46 Topics.\n",
        "\n",
        "Dataset of 11,228 newswires from Reuters, labeled over 46 topics. Each wire is encoded as a sequence of word indexes."
      ]
    },
    {
      "cell_type": "code",
      "metadata": {
        "id": "r3Y8ZHFGR1uq",
        "colab": {
          "base_uri": "https://localhost:8080/"
        },
        "outputId": "4c72adf2-6bad-47a9-80d0-d37971fb0751"
      },
      "source": [
        "%tensorflow_version 2.8.0\n",
        "%matplotlib inline\n",
        "import warnings\n",
        "warnings.filterwarnings('ignore')\n",
        "\n",
        "import tensorflow as tf\n",
        "tf.autograph.set_verbosity(0)\n",
        "\n",
        "from __future__ import print_function\n",
        "\n",
        "!pip install numpy\n",
        "import numpy as np\n",
        "import keras\n",
        "keras.__version__\n",
        "\n",
        "import random\n",
        "seed = 32\n",
        "random.seed(seed)\n",
        "np.random.seed(seed)\n",
        "tf.random.set_seed(seed)"
      ],
      "execution_count": null,
      "outputs": [
        {
          "output_type": "stream",
          "name": "stdout",
          "text": [
            "`%tensorflow_version` only switches the major version: 1.x or 2.x.\n",
            "You set: `2.8.0`. This will be interpreted as: `2.x`.\n",
            "\n",
            "\n",
            "TensorFlow is already loaded. Please restart the runtime to change versions.\n",
            "Looking in indexes: https://pypi.org/simple, https://us-python.pkg.dev/colab-wheels/public/simple/\n",
            "Requirement already satisfied: numpy in /usr/local/lib/python3.7/dist-packages (1.21.6)\n"
          ]
        }
      ]
    },
    {
      "cell_type": "markdown",
      "metadata": {
        "id": "Uvtq164jRPNz"
      },
      "source": [
        "## Loading the Reuters Dataset\n"
      ]
    },
    {
      "cell_type": "code",
      "metadata": {
        "id": "Mbt21X3mQjZw",
        "colab": {
          "base_uri": "https://localhost:8080/"
        },
        "outputId": "75efdbd3-efee-4725-d118-96b59222a962"
      },
      "source": [
        "from keras.datasets import reuters\n",
        "from keras.models import Sequential\n",
        "from keras.layers import Dense, Dropout, Activation\n",
        "from keras.preprocessing.text import Tokenizer\n",
        "\n",
        "max_words = 10000 # Number of words to consider as features\n",
        "\n",
        "print('Loading data...')\n",
        "(x_train, y_train), (x_test, y_test) = reuters.load_data(num_words=max_words, test_split=0.2)\n",
        "word_index = reuters.get_word_index(path=\"reuters_word_index.json\")"
      ],
      "execution_count": null,
      "outputs": [
        {
          "output_type": "stream",
          "name": "stdout",
          "text": [
            "Loading data...\n",
            "Downloading data from https://storage.googleapis.com/tensorflow/tf-keras-datasets/reuters.npz\n",
            "2113536/2110848 [==============================] - 0s 0us/step\n",
            "2121728/2110848 [==============================] - 0s 0us/step\n",
            "Downloading data from https://storage.googleapis.com/tensorflow/tf-keras-datasets/reuters_word_index.json\n",
            "557056/550378 [==============================] - 0s 0us/step\n",
            "565248/550378 [==============================] - 0s 0us/step\n"
          ]
        }
      ]
    },
    {
      "cell_type": "code",
      "metadata": {
        "id": "n-iTK-ST0UPH",
        "colab": {
          "base_uri": "https://localhost:8080/"
        },
        "outputId": "2744454d-128e-44b6-cc55-b6c4e833c354"
      },
      "source": [
        "# Pad train and test sequences\n",
        "from keras import preprocessing\n",
        "maxlen=200\n",
        "x_train = preprocessing.sequence.pad_sequences(x_train, maxlen=maxlen)\n",
        "x_test = preprocessing.sequence.pad_sequences(x_test, maxlen=maxlen)\n",
        "print('input_train shape:', x_train.shape)\n",
        "print('input_test shape:', x_test.shape)"
      ],
      "execution_count": null,
      "outputs": [
        {
          "output_type": "stream",
          "name": "stdout",
          "text": [
            "input_train shape: (8982, 200)\n",
            "input_test shape: (2246, 200)\n"
          ]
        }
      ]
    },
    {
      "cell_type": "code",
      "source": [
        "# Converting labels into one hot encodings\n",
        "from keras.utils.np_utils import to_categorical\n",
        "\n",
        "one_hot_train_labels = to_categorical(y_train)\n",
        "one_hot_test_labels = to_categorical(y_test)"
      ],
      "metadata": {
        "id": "lFBHxyi3RZkL"
      },
      "execution_count": null,
      "outputs": []
    },
    {
      "cell_type": "markdown",
      "metadata": {
        "id": "w9__yxAHUSrb"
      },
      "source": [
        "## RNN and LSTM\n"
      ]
    },
    {
      "cell_type": "markdown",
      "metadata": {
        "id": "IzOJ_4bde0Nn"
      },
      "source": [
        "### Single layer RNN model with 128 output units for 10 epochs"
      ]
    },
    {
      "cell_type": "code",
      "metadata": {
        "id": "ODwr8V-JfAgX",
        "colab": {
          "base_uri": "https://localhost:8080/"
        },
        "outputId": "4c285d64-b1a1-4fcd-ee47-a8736eca6261"
      },
      "source": [
        "#Training a RNN model\n",
        "from keras.models import Sequential\n",
        "from keras.layers import Embedding, SimpleRNN\n",
        "\n",
        "model = Sequential()\n",
        "model.add(Embedding(10000, embedding_size))\n",
        "model.add(SimpleRNN(128))\n",
        "model.add(Dense(46, activation='softmax'))\n",
        "\n",
        "model.compile(\n",
        "    optimizer='rmsprop',\n",
        "    loss='categorical_crossentropy',\n",
        "    metrics=['acc']\n",
        ")\n",
        "history = model.fit(\n",
        "    x_train,\n",
        "    one_hot_train_labels,\n",
        "    epochs=10,\n",
        "    batch_size=128,\n",
        "    validation_split=0.2\n",
        ")"
      ],
      "execution_count": null,
      "outputs": [
        {
          "output_type": "stream",
          "name": "stdout",
          "text": [
            "Epoch 1/10\n",
            "57/57 [==============================] - 12s 200ms/step - loss: 2.4315 - acc: 0.3669 - val_loss: 2.4196 - val_acc: 0.3484\n",
            "Epoch 2/10\n",
            "57/57 [==============================] - 11s 196ms/step - loss: 2.1094 - acc: 0.4459 - val_loss: 2.2822 - val_acc: 0.4090\n",
            "Epoch 3/10\n",
            "57/57 [==============================] - 11s 197ms/step - loss: 1.9632 - acc: 0.4994 - val_loss: 2.3266 - val_acc: 0.4085\n",
            "Epoch 4/10\n",
            "57/57 [==============================] - 11s 196ms/step - loss: 1.8349 - acc: 0.5314 - val_loss: 2.2921 - val_acc: 0.3996\n",
            "Epoch 5/10\n",
            "57/57 [==============================] - 11s 192ms/step - loss: 1.4897 - acc: 0.6278 - val_loss: 2.2082 - val_acc: 0.4463\n",
            "Epoch 6/10\n",
            "57/57 [==============================] - 12s 213ms/step - loss: 1.2663 - acc: 0.6863 - val_loss: 2.3082 - val_acc: 0.4290\n",
            "Epoch 7/10\n",
            "57/57 [==============================] - 11s 198ms/step - loss: 0.9997 - acc: 0.7574 - val_loss: 2.4336 - val_acc: 0.4040\n",
            "Epoch 8/10\n",
            "57/57 [==============================] - 11s 199ms/step - loss: 0.8090 - acc: 0.8081 - val_loss: 2.5091 - val_acc: 0.4079\n",
            "Epoch 9/10\n",
            "57/57 [==============================] - 11s 193ms/step - loss: 0.6512 - acc: 0.8475 - val_loss: 2.5679 - val_acc: 0.4313\n",
            "Epoch 10/10\n",
            "57/57 [==============================] - 11s 196ms/step - loss: 0.5206 - acc: 0.8827 - val_loss: 2.7267 - val_acc: 0.3895\n"
          ]
        }
      ]
    },
    {
      "cell_type": "code",
      "source": [
        "# Evaluate RNN model on test set\n",
        "model.evaluate(x_test, one_hot_test_labels)"
      ],
      "metadata": {
        "id": "jvsQeWcuTlo-",
        "colab": {
          "base_uri": "https://localhost:8080/"
        },
        "outputId": "b9e59f33-d5f5-43cb-b584-5f7b9545911a"
      },
      "execution_count": null,
      "outputs": [
        {
          "output_type": "stream",
          "name": "stdout",
          "text": [
            "71/71 [==============================] - 1s 16ms/step - loss: 2.6717 - acc: 0.4065\n"
          ]
        },
        {
          "output_type": "execute_result",
          "data": {
            "text/plain": [
              "[2.6717309951782227, 0.4065004587173462]"
            ]
          },
          "metadata": {},
          "execution_count": 12
        }
      ]
    },
    {
      "cell_type": "markdown",
      "metadata": {
        "id": "XAC47vVgejqi"
      },
      "source": [
        "### Single layer LSTM model with 128 output units for 20 epochs"
      ]
    },
    {
      "cell_type": "code",
      "metadata": {
        "id": "GnikVejC31UD",
        "colab": {
          "base_uri": "https://localhost:8080/"
        },
        "outputId": "1a05deee-6d79-4f6a-cabe-3ee184fa6f2e"
      },
      "source": [
        "# Training a LSTM model\n",
        "from keras.layers import LSTM, Dropout\n",
        "\n",
        "model = Sequential()\n",
        "model.add(Embedding(10000, embedding_size))\n",
        "model.add(LSTM(128))\n",
        "model.add(Dense(46, activation='softmax'))\n",
        "\n",
        "model.compile(\n",
        "    optimizer='rmsprop',\n",
        "    loss='categorical_crossentropy',\n",
        "    metrics=['acc']\n",
        ")\n",
        "history = model.fit(\n",
        "    x_train,\n",
        "    one_hot_train_labels,\n",
        "    epochs=20,\n",
        "    batch_size=128,\n",
        "    validation_split=0.2\n",
        ")"
      ],
      "execution_count": null,
      "outputs": [
        {
          "output_type": "stream",
          "name": "stdout",
          "text": [
            "Epoch 1/20\n",
            "57/57 [==============================] - 5s 27ms/step - loss: 2.4388 - acc: 0.3677 - val_loss: 3.0421 - val_acc: 0.3523\n",
            "Epoch 2/20\n",
            "57/57 [==============================] - 1s 18ms/step - loss: 2.0216 - acc: 0.4860 - val_loss: 1.9356 - val_acc: 0.4880\n",
            "Epoch 3/20\n",
            "57/57 [==============================] - 1s 19ms/step - loss: 1.7632 - acc: 0.5388 - val_loss: 1.7474 - val_acc: 0.5442\n",
            "Epoch 4/20\n",
            "57/57 [==============================] - 1s 25ms/step - loss: 1.6352 - acc: 0.5756 - val_loss: 1.6710 - val_acc: 0.5899\n",
            "Epoch 5/20\n",
            "57/57 [==============================] - 1s 20ms/step - loss: 1.5365 - acc: 0.5968 - val_loss: 1.6385 - val_acc: 0.5838\n",
            "Epoch 6/20\n",
            "57/57 [==============================] - 1s 18ms/step - loss: 1.4032 - acc: 0.6315 - val_loss: 1.5167 - val_acc: 0.6210\n",
            "Epoch 7/20\n",
            "57/57 [==============================] - 1s 18ms/step - loss: 1.2755 - acc: 0.6632 - val_loss: 1.4604 - val_acc: 0.6333\n",
            "Epoch 8/20\n",
            "57/57 [==============================] - 1s 18ms/step - loss: 1.1469 - acc: 0.6965 - val_loss: 1.4652 - val_acc: 0.6327\n",
            "Epoch 9/20\n",
            "57/57 [==============================] - 1s 18ms/step - loss: 1.0420 - acc: 0.7236 - val_loss: 1.3768 - val_acc: 0.6639\n",
            "Epoch 10/20\n",
            "57/57 [==============================] - 1s 18ms/step - loss: 0.9491 - acc: 0.7486 - val_loss: 1.5065 - val_acc: 0.6361\n",
            "Epoch 11/20\n",
            "57/57 [==============================] - 1s 18ms/step - loss: 0.8642 - acc: 0.7770 - val_loss: 1.4086 - val_acc: 0.6750\n",
            "Epoch 12/20\n",
            "57/57 [==============================] - 1s 18ms/step - loss: 0.7842 - acc: 0.7987 - val_loss: 1.3679 - val_acc: 0.6995\n",
            "Epoch 13/20\n",
            "57/57 [==============================] - 1s 19ms/step - loss: 0.7164 - acc: 0.8145 - val_loss: 1.4558 - val_acc: 0.6617\n",
            "Epoch 14/20\n",
            "57/57 [==============================] - 1s 19ms/step - loss: 0.6447 - acc: 0.8328 - val_loss: 1.5657 - val_acc: 0.6388\n",
            "Epoch 15/20\n",
            "57/57 [==============================] - 1s 18ms/step - loss: 0.6200 - acc: 0.8362 - val_loss: 1.5020 - val_acc: 0.6450\n",
            "Epoch 16/20\n",
            "57/57 [==============================] - 1s 18ms/step - loss: 0.5424 - acc: 0.8573 - val_loss: 1.4704 - val_acc: 0.6867\n",
            "Epoch 17/20\n",
            "57/57 [==============================] - 1s 18ms/step - loss: 0.4927 - acc: 0.8704 - val_loss: 1.8558 - val_acc: 0.5687\n",
            "Epoch 18/20\n",
            "57/57 [==============================] - 1s 18ms/step - loss: 0.4430 - acc: 0.8842 - val_loss: 1.6523 - val_acc: 0.6628\n",
            "Epoch 19/20\n",
            "57/57 [==============================] - 1s 18ms/step - loss: 0.4055 - acc: 0.8935 - val_loss: 1.5549 - val_acc: 0.6867\n",
            "Epoch 20/20\n",
            "57/57 [==============================] - 1s 18ms/step - loss: 0.3696 - acc: 0.9038 - val_loss: 1.6577 - val_acc: 0.6756\n"
          ]
        }
      ]
    },
    {
      "cell_type": "code",
      "source": [
        "# Evaluating LSTM model on test set\n",
        "model.evaluate(x_test, one_hot_test_labels)"
      ],
      "metadata": {
        "id": "YizClw0mUJvC",
        "colab": {
          "base_uri": "https://localhost:8080/"
        },
        "outputId": "76338d74-1636-4afc-87eb-38f254bf63c7"
      },
      "execution_count": null,
      "outputs": [
        {
          "output_type": "stream",
          "name": "stdout",
          "text": [
            "71/71 [==============================] - 0s 7ms/step - loss: 1.7638 - acc: 0.6621\n"
          ]
        },
        {
          "output_type": "execute_result",
          "data": {
            "text/plain": [
              "[1.7637970447540283, 0.6620659232139587]"
            ]
          },
          "metadata": {},
          "execution_count": 14
        }
      ]
    },
    {
      "cell_type": "markdown",
      "metadata": {
        "id": "asCa299TUV7N"
      },
      "source": [
        "## Using a Pre-trained Word Embedding\n",
        "\n",
        "\n"
      ]
    },
    {
      "cell_type": "code",
      "metadata": {
        "id": "MkQprFAyU-0g",
        "colab": {
          "base_uri": "https://localhost:8080/"
        },
        "outputId": "996f4db6-31a2-443f-f160-e0a2d7dafeff"
      },
      "source": [
        "# Training a LSTM model using pretrained embeddings\n",
        "!wget http://nlp.stanford.edu/data/glove.6B.zip\n",
        "!unzip -q glove.6B.zip\n"
      ],
      "execution_count": null,
      "outputs": [
        {
          "output_type": "stream",
          "name": "stdout",
          "text": [
            "--2022-06-07 22:02:45--  http://nlp.stanford.edu/data/glove.6B.zip\n",
            "Resolving nlp.stanford.edu (nlp.stanford.edu)... 171.64.67.140\n",
            "Connecting to nlp.stanford.edu (nlp.stanford.edu)|171.64.67.140|:80... connected.\n",
            "HTTP request sent, awaiting response... 302 Found\n",
            "Location: https://nlp.stanford.edu/data/glove.6B.zip [following]\n",
            "--2022-06-07 22:02:45--  https://nlp.stanford.edu/data/glove.6B.zip\n",
            "Connecting to nlp.stanford.edu (nlp.stanford.edu)|171.64.67.140|:443... connected.\n",
            "HTTP request sent, awaiting response... 301 Moved Permanently\n",
            "Location: http://downloads.cs.stanford.edu/nlp/data/glove.6B.zip [following]\n",
            "--2022-06-07 22:02:45--  http://downloads.cs.stanford.edu/nlp/data/glove.6B.zip\n",
            "Resolving downloads.cs.stanford.edu (downloads.cs.stanford.edu)... 171.64.64.22\n",
            "Connecting to downloads.cs.stanford.edu (downloads.cs.stanford.edu)|171.64.64.22|:80... connected.\n",
            "HTTP request sent, awaiting response... 200 OK\n",
            "Length: 862182613 (822M) [application/zip]\n",
            "Saving to: ‘glove.6B.zip’\n",
            "\n",
            "glove.6B.zip        100%[===================>] 822.24M  5.03MB/s    in 2m 40s  \n",
            "\n",
            "2022-06-07 22:05:25 (5.15 MB/s) - ‘glove.6B.zip’ saved [862182613/862182613]\n",
            "\n"
          ]
        }
      ]
    },
    {
      "cell_type": "code",
      "source": [
        "import os\n",
        "path_to_glove_file = os.path.join(\n",
        "    \"/content/glove.6B.200d.txt\"\n",
        ")\n",
        "\n",
        "embeddings_index = {}\n",
        "with open(path_to_glove_file) as f:\n",
        "    for line in f:\n",
        "        word, coefs = line.split(maxsplit=1)\n",
        "        coefs = np.fromstring(coefs, \"f\", sep=\" \")\n",
        "        embeddings_index[word] = coefs\n",
        "\n",
        "print(\"Found %s word vectors.\" % len(embeddings_index))"
      ],
      "metadata": {
        "colab": {
          "base_uri": "https://localhost:8080/"
        },
        "id": "CietRexw-4pB",
        "outputId": "62765de4-0481-48cd-c341-fc3307c3a3f0"
      },
      "execution_count": null,
      "outputs": [
        {
          "output_type": "stream",
          "name": "stdout",
          "text": [
            "Found 400000 word vectors.\n"
          ]
        }
      ]
    },
    {
      "cell_type": "code",
      "source": [
        "# Prepare embedding matrix\n",
        "num_tokens = 35000\n",
        "embedding_dim = 200\n",
        "hits = 0\n",
        "misses = 0\n",
        "embedding_matrix = np.zeros((num_tokens, embedding_dim))\n",
        "for word, i in word_index.items():\n",
        "    embedding_vector = embeddings_index.get(word)\n",
        "    if embedding_vector is not None:\n",
        "        # Words not found in embedding index will be all-zeros.\n",
        "        # This includes the representation for \"padding\" and \"OOV\"\n",
        "        embedding_matrix[i] = embedding_vector\n",
        "        hits += 1\n",
        "    else:\n",
        "        misses += 1\n",
        "print(\"Converted %d words (%d misses)\" % (hits, misses))\n",
        "# len(embedding_matrix)"
      ],
      "metadata": {
        "colab": {
          "base_uri": "https://localhost:8080/"
        },
        "id": "Sp2qzpkLLBgo",
        "outputId": "6fdef9d3-a9c6-4bc5-8d81-2d7b6d214564"
      },
      "execution_count": null,
      "outputs": [
        {
          "output_type": "stream",
          "name": "stdout",
          "text": [
            "Converted 24975 words (6004 misses)\n"
          ]
        }
      ]
    },
    {
      "cell_type": "code",
      "source": [
        "from tensorflow.keras.layers import Embedding\n",
        "\n",
        "embedding_layer = Embedding(\n",
        "    num_tokens,\n",
        "    embedding_dim,\n",
        "    embeddings_initializer=keras.initializers.Constant(embedding_matrix),\n",
        "    trainable=False,\n",
        ")\n"
      ],
      "metadata": {
        "id": "SAvFP5JOQQTx"
      },
      "execution_count": null,
      "outputs": []
    },
    {
      "cell_type": "code",
      "source": [
        "model = Sequential()\n",
        "model.add(Embedding(10000, embedding_size))\n",
        "model.add(LSTM(128))\n",
        "model.add(Dense(46, activation='softmax'))\n",
        "\n",
        "model.compile(\n",
        "    optimizer='rmsprop',\n",
        "    loss='categorical_crossentropy',\n",
        "    metrics=['acc']\n",
        ")\n",
        "history = model.fit(\n",
        "    x_train,\n",
        "    one_hot_train_labels,\n",
        "    epochs=20,\n",
        "    batch_size=128,\n",
        "    validation_split=0.2\n",
        ")"
      ],
      "metadata": {
        "colab": {
          "base_uri": "https://localhost:8080/"
        },
        "id": "c70Ww_uzQ3-4",
        "outputId": "414e0600-c60d-4980-b63a-87fa77feed17"
      },
      "execution_count": null,
      "outputs": [
        {
          "output_type": "stream",
          "name": "stdout",
          "text": [
            "Epoch 1/20\n",
            "57/57 [==============================] - 3s 27ms/step - loss: 2.4143 - acc: 0.3905 - val_loss: 2.3444 - val_acc: 0.4101\n",
            "Epoch 2/20\n",
            "57/57 [==============================] - 1s 18ms/step - loss: 2.0059 - acc: 0.4909 - val_loss: 2.3160 - val_acc: 0.4791\n",
            "Epoch 3/20\n",
            "57/57 [==============================] - 1s 18ms/step - loss: 1.7659 - acc: 0.5421 - val_loss: 1.6846 - val_acc: 0.5626\n",
            "Epoch 4/20\n",
            "57/57 [==============================] - 1s 19ms/step - loss: 1.6453 - acc: 0.5754 - val_loss: 1.8841 - val_acc: 0.5364\n",
            "Epoch 5/20\n",
            "57/57 [==============================] - 1s 18ms/step - loss: 1.5199 - acc: 0.5882 - val_loss: 1.8081 - val_acc: 0.5743\n",
            "Epoch 6/20\n",
            "57/57 [==============================] - 1s 18ms/step - loss: 1.4357 - acc: 0.6186 - val_loss: 1.5069 - val_acc: 0.6121\n",
            "Epoch 7/20\n",
            "57/57 [==============================] - 1s 18ms/step - loss: 1.2833 - acc: 0.6612 - val_loss: 1.5037 - val_acc: 0.6294\n",
            "Epoch 8/20\n",
            "57/57 [==============================] - 1s 18ms/step - loss: 1.1667 - acc: 0.6896 - val_loss: 1.3864 - val_acc: 0.6516\n",
            "Epoch 9/20\n",
            "57/57 [==============================] - 1s 19ms/step - loss: 1.0428 - acc: 0.7247 - val_loss: 1.4979 - val_acc: 0.6349\n",
            "Epoch 10/20\n",
            "57/57 [==============================] - 1s 18ms/step - loss: 0.9344 - acc: 0.7521 - val_loss: 1.5107 - val_acc: 0.6505\n",
            "Epoch 11/20\n",
            "57/57 [==============================] - 1s 18ms/step - loss: 0.8537 - acc: 0.7781 - val_loss: 1.4527 - val_acc: 0.6611\n",
            "Epoch 12/20\n",
            "57/57 [==============================] - 1s 18ms/step - loss: 0.7578 - acc: 0.8058 - val_loss: 1.6338 - val_acc: 0.6466\n",
            "Epoch 13/20\n",
            "57/57 [==============================] - 1s 18ms/step - loss: 0.6956 - acc: 0.8175 - val_loss: 1.6482 - val_acc: 0.6383\n",
            "Epoch 14/20\n",
            "57/57 [==============================] - 1s 18ms/step - loss: 0.6271 - acc: 0.8366 - val_loss: 1.4503 - val_acc: 0.6667\n",
            "Epoch 15/20\n",
            "57/57 [==============================] - 1s 18ms/step - loss: 0.5650 - acc: 0.8512 - val_loss: 1.7396 - val_acc: 0.5687\n",
            "Epoch 16/20\n",
            "57/57 [==============================] - 1s 18ms/step - loss: 0.5279 - acc: 0.8580 - val_loss: 1.6050 - val_acc: 0.6733\n",
            "Epoch 17/20\n",
            "57/57 [==============================] - 1s 19ms/step - loss: 0.4738 - acc: 0.8743 - val_loss: 1.5456 - val_acc: 0.6639\n",
            "Epoch 18/20\n",
            "57/57 [==============================] - 1s 18ms/step - loss: 0.4357 - acc: 0.8874 - val_loss: 1.5091 - val_acc: 0.6923\n",
            "Epoch 19/20\n",
            "57/57 [==============================] - 1s 18ms/step - loss: 0.3960 - acc: 0.8980 - val_loss: 1.5503 - val_acc: 0.6867\n",
            "Epoch 20/20\n",
            "57/57 [==============================] - 1s 19ms/step - loss: 0.3557 - acc: 0.9070 - val_loss: 1.6318 - val_acc: 0.6795\n"
          ]
        }
      ]
    },
    {
      "cell_type": "code",
      "source": [
        "# Evaluating LSTM model on test set\n",
        "model.evaluate(x_test, one_hot_test_labels)"
      ],
      "metadata": {
        "id": "tWukIq5mq8He",
        "colab": {
          "base_uri": "https://localhost:8080/"
        },
        "outputId": "90e658c1-5cf4-434a-e7d1-f7994825b576"
      },
      "execution_count": null,
      "outputs": [
        {
          "output_type": "stream",
          "name": "stdout",
          "text": [
            "71/71 [==============================] - 1s 11ms/step - loss: 1.7596 - acc: 0.6634\n"
          ]
        },
        {
          "output_type": "execute_result",
          "data": {
            "text/plain": [
              "[1.7595865726470947, 0.6634016036987305]"
            ]
          },
          "metadata": {},
          "execution_count": 34
        }
      ]
    }
  ]
}