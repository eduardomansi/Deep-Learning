{
  "nbformat": 4,
  "nbformat_minor": 0,
  "metadata": {
    "colab": {
      "name": "MSIS549_HW1_EMM.ipynb",
      "provenance": [],
      "collapsed_sections": []
    },
    "language_info": {
      "codemirror_mode": {
        "name": "ipython",
        "version": 3
      },
      "file_extension": ".py",
      "mimetype": "text/x-python",
      "name": "python",
      "nbconvert_exporter": "python",
      "pygments_lexer": "ipython3",
      "version": "3.5.2"
    },
    "kernelspec": {
      "display_name": "Python 3",
      "language": "python",
      "name": "python3"
    }
  },
  "cells": [
    {
      "cell_type": "code",
      "metadata": {
        "id": "_0lDkFZq3ohI",
        "colab": {
          "base_uri": "https://localhost:8080/"
        },
        "outputId": "8a7f67ab-0f65-4a9a-f43a-8f16cc5c25bc"
      },
      "source": [
        "%tensorflow_version 2.8.0\n",
        "%matplotlib inline\n",
        "import warnings\n",
        "warnings.filterwarnings('ignore')\n",
        "\n",
        "import tensorflow as tf\n",
        "tf.autograph.set_verbosity(0)\n",
        "\n",
        "import keras\n",
        "keras.__version__\n",
        "\n",
        "import numpy as np"
      ],
      "execution_count": null,
      "outputs": [
        {
          "output_type": "stream",
          "name": "stdout",
          "text": [
            "`%tensorflow_version` only switches the major version: 1.x or 2.x.\n",
            "You set: `2.8.0`. This will be interpreted as: `2.x`.\n",
            "\n",
            "\n",
            "TensorFlow 2.x selected.\n"
          ]
        }
      ]
    },
    {
      "cell_type": "markdown",
      "metadata": {
        "id": "bu5jf9gW3ohR"
      },
      "source": [
        "# Classifying newswires: a multi-class classification example\n",
        "\n",
        "In this project, I will build a network to classify Reuters newswires into 46 different mutually-exclusive topics. Since we have many \n",
        "classes, this problem is an instance of \"multi-class classification\", and since each data point should be classified into only one \n",
        "category, the problem is more specifically an instance of \"single-label, multi-class classification\"."
      ]
    },
    {
      "cell_type": "markdown",
      "metadata": {
        "id": "_-s49gXW3ohT"
      },
      "source": [
        "## The Reuters dataset\n",
        "\n",
        "\n",
        "I will be working with the _Reuters dataset_, a set of short newswires and their topics, published by Reuters in 1986. It's a very simple, \n",
        "widely used toy dataset for text classification. There are 46 different topics; some topics are more represented than others, but each \n",
        "topic has at least 10 examples in the training set.\n",
        "\n",
        "The Reuters dataset comes packaged as part of Keras. Let's take a look right away:"
      ]
    },
    {
      "cell_type": "code",
      "metadata": {
        "id": "yjSiBNZS3ohU",
        "colab": {
          "base_uri": "https://localhost:8080/"
        },
        "outputId": "1104a2ee-b0df-4dcb-8f7d-844e6cbcb87d"
      },
      "source": [
        "from keras.datasets import reuters\n",
        "\n",
        "(train_data, train_labels), (test_data, test_labels) = reuters.load_data(num_words=10000)"
      ],
      "execution_count": null,
      "outputs": [
        {
          "output_type": "stream",
          "name": "stdout",
          "text": [
            "Downloading data from https://storage.googleapis.com/tensorflow/tf-keras-datasets/reuters.npz\n",
            "2113536/2110848 [==============================] - 0s 0us/step\n",
            "2121728/2110848 [==============================] - 0s 0us/step\n"
          ]
        }
      ]
    },
    {
      "cell_type": "markdown",
      "metadata": {
        "id": "-VRrIjNI3ohX"
      },
      "source": [
        "\n",
        "The argument `num_words=10000` restricts the data to the 10,000 most frequently occurring words found in the \n",
        "data.\n",
        "\n",
        "We have 8,982 training examples and 2,246 test examples:"
      ]
    },
    {
      "cell_type": "markdown",
      "metadata": {
        "id": "FMdiLzvF3ohf"
      },
      "source": [
        "Each example is a list of integers (word indices):"
      ]
    },
    {
      "cell_type": "code",
      "metadata": {
        "id": "QriVgMSe3ohg",
        "colab": {
          "base_uri": "https://localhost:8080/"
        },
        "outputId": "ecad4bdd-440a-41b7-bf42-744e12b887a6"
      },
      "source": [
        "train_data[:1]"
      ],
      "execution_count": null,
      "outputs": [
        {
          "output_type": "execute_result",
          "data": {
            "text/plain": [
              "array([list([1, 2, 2, 8, 43, 10, 447, 5, 25, 207, 270, 5, 3095, 111, 16, 369, 186, 90, 67, 7, 89, 5, 19, 102, 6, 19, 124, 15, 90, 67, 84, 22, 482, 26, 7, 48, 4, 49, 8, 864, 39, 209, 154, 6, 151, 6, 83, 11, 15, 22, 155, 11, 15, 7, 48, 9, 4579, 1005, 504, 6, 258, 6, 272, 11, 15, 22, 134, 44, 11, 15, 16, 8, 197, 1245, 90, 67, 52, 29, 209, 30, 32, 132, 6, 109, 15, 17, 12])],\n",
              "      dtype=object)"
            ]
          },
          "metadata": {},
          "execution_count": 19
        }
      ]
    },
    {
      "cell_type": "markdown",
      "metadata": {
        "id": "kIvaOPin3ohj"
      },
      "source": [
        "Here's how to decode it back to words:"
      ]
    },
    {
      "cell_type": "code",
      "metadata": {
        "id": "EZg6ME3Y3ohk",
        "colab": {
          "base_uri": "https://localhost:8080/"
        },
        "outputId": "3035196f-6020-4aca-cda9-83f7cd74ceda"
      },
      "source": [
        "word_index = reuters.get_word_index()\n",
        "inverted_word_index = dict((i, word) for (word, i) in word_index.items())\n",
        "# Note that our indices were offset by 3\n",
        "# because 0, 1 and 2 are reserved indices for \"padding\", \"start of sequence\", and \"unknown\".\n",
        "decoded_newswire = ' '.join([inverted_word_index.get(i - 3, '?') for i in train_data[0]])\n",
        "\n",
        "print(\"The decoded text:\" + decoded_newswire)"
      ],
      "execution_count": null,
      "outputs": [
        {
          "output_type": "stream",
          "name": "stdout",
          "text": [
            "Downloading data from https://storage.googleapis.com/tensorflow/tf-keras-datasets/reuters_word_index.json\n",
            "557056/550378 [==============================] - 0s 0us/step\n",
            "565248/550378 [==============================] - 0s 0us/step\n",
            "The decoded text:? ? ? said as a result of its december acquisition of space co it expects earnings per share in 1987 of 1 15 to 1 30 dlrs per share up from 70 cts in 1986 the company said pretax net should rise to nine to 10 mln dlrs from six mln dlrs in 1986 and rental operation revenues to 19 to 22 mln dlrs from 12 5 mln dlrs it said cash flow per share this year should be 2 50 to three dlrs reuter 3\n"
          ]
        }
      ]
    },
    {
      "cell_type": "markdown",
      "metadata": {
        "id": "yntI1JS33oho"
      },
      "source": [
        "The label associated with an example is an integer between 0 and 45: a topic index."
      ]
    },
    {
      "cell_type": "code",
      "metadata": {
        "id": "swMqUzqz3ohq",
        "colab": {
          "base_uri": "https://localhost:8080/"
        },
        "outputId": "d156e0ec-9fc3-4001-de93-2350249583cf"
      },
      "source": [
        "train_labels[:10]"
      ],
      "execution_count": null,
      "outputs": [
        {
          "output_type": "execute_result",
          "data": {
            "text/plain": [
              "array([ 3,  4,  3,  4,  4,  4,  4,  3,  3, 16])"
            ]
          },
          "metadata": {},
          "execution_count": 21
        }
      ]
    },
    {
      "cell_type": "markdown",
      "metadata": {
        "id": "fsLn40NK3oht"
      },
      "source": [
        "## Preparing the data\n",
        "\n",
        "To vectorize the data we do:"
      ]
    },
    {
      "cell_type": "code",
      "metadata": {
        "id": "NDol7z_43ohu"
      },
      "source": [
        "import numpy as np\n",
        "\n",
        "def vectorize_sequences(sequences, dimension=10000):\n",
        "    results = np.zeros((len(sequences), dimension))\n",
        "    for i, sequence in enumerate(sequences):\n",
        "        results[i, sequence] = 1.\n",
        "    return results\n",
        "\n",
        "# Our vectorized training data\n",
        "x_train = vectorize_sequences(train_data)\n",
        "# Our vectorized test data\n",
        "x_test = vectorize_sequences(test_data)"
      ],
      "execution_count": null,
      "outputs": []
    },
    {
      "cell_type": "markdown",
      "metadata": {
        "id": "9pte7Qr63ohv"
      },
      "source": [
        "\n",
        "Using \"one-hot\" encoding to vectorize the labels. One-hot encoding consists in embedding each label as an all-zero vector with a 1 in the place of the label index."
      ]
    },
    {
      "cell_type": "code",
      "metadata": {
        "id": "XO_SmjOD3ohy"
      },
      "source": [
        "from keras.utils.np_utils import to_categorical\n",
        "\n",
        "one_hot_train_labels = to_categorical(train_labels)\n",
        "one_hot_test_labels = to_categorical(test_labels)"
      ],
      "execution_count": null,
      "outputs": []
    },
    {
      "cell_type": "markdown",
      "metadata": {
        "id": "rMvTFcc03ohz"
      },
      "source": [
        "## Building our network\n",
        "\n"
      ]
    },
    {
      "cell_type": "code",
      "metadata": {
        "id": "HdhwRTjx3ohz"
      },
      "source": [
        "from keras import models\n",
        "from keras import layers\n",
        "\n",
        "# Specifying the architecture of the model.\n",
        "model = models.Sequential()\n",
        "model.add(layers.Dense(units=64, activation='relu', input_shape=(10000,)))\n",
        "model.add(layers.Dense(units=64, activation='relu'))\n",
        "model.add(layers.Dense(units=46, activation='softmax'))"
      ],
      "execution_count": null,
      "outputs": []
    },
    {
      "cell_type": "code",
      "metadata": {
        "id": "AhmA6zNZ3oh1"
      },
      "source": [
        "# Compiling the model \n",
        "model.compile(\n",
        "    optimizer='rmsprop',\n",
        "    loss='categorical_crossentropy',\n",
        "    metrics=['accuracy']\n",
        ")"
      ],
      "execution_count": null,
      "outputs": []
    },
    {
      "cell_type": "markdown",
      "metadata": {
        "id": "TGB_cp8B3oh2"
      },
      "source": [
        "## Validating \n",
        "\n",
        "Setting apart 1,000 samples in our training data to use as a validation set:"
      ]
    },
    {
      "cell_type": "code",
      "metadata": {
        "id": "Y3eyzgOA3oh2"
      },
      "source": [
        "x_val = x_train[:1000]\n",
        "partial_x_train = x_train[1000:]\n",
        "\n",
        "y_val = one_hot_train_labels[:1000]\n",
        "partial_y_train = one_hot_train_labels[1000:]"
      ],
      "execution_count": null,
      "outputs": []
    },
    {
      "cell_type": "markdown",
      "metadata": {
        "id": "vIFUZkt43oh3"
      },
      "source": [
        "Training network for 20 epochs:"
      ]
    },
    {
      "cell_type": "code",
      "metadata": {
        "id": "MM57jbod3oh3",
        "colab": {
          "base_uri": "https://localhost:8080/"
        },
        "outputId": "349b46c6-d9c6-4a7d-9bbd-cbbbde2803c2"
      },
      "source": [
        "history = model.fit(\n",
        "    partial_x_train,\n",
        "    partial_y_train,\n",
        "    epochs=20,\n",
        "    validation_data=(x_val,y_val)\n",
        ")"
      ],
      "execution_count": null,
      "outputs": [
        {
          "output_type": "stream",
          "name": "stdout",
          "text": [
            "Epoch 1/20\n",
            "250/250 [==============================] - 4s 11ms/step - loss: 1.4412 - accuracy: 0.6865 - val_loss: 1.0806 - val_accuracy: 0.7440\n",
            "Epoch 2/20\n",
            "250/250 [==============================] - 3s 11ms/step - loss: 0.7366 - accuracy: 0.8346 - val_loss: 0.8803 - val_accuracy: 0.8200\n",
            "Epoch 3/20\n",
            "250/250 [==============================] - 3s 11ms/step - loss: 0.4581 - accuracy: 0.8979 - val_loss: 0.8894 - val_accuracy: 0.8110\n",
            "Epoch 4/20\n",
            "250/250 [==============================] - 3s 11ms/step - loss: 0.3190 - accuracy: 0.9313 - val_loss: 0.9371 - val_accuracy: 0.8160\n",
            "Epoch 5/20\n",
            "250/250 [==============================] - 3s 11ms/step - loss: 0.2453 - accuracy: 0.9422 - val_loss: 1.0159 - val_accuracy: 0.8230\n",
            "Epoch 6/20\n",
            "250/250 [==============================] - 3s 11ms/step - loss: 0.2078 - accuracy: 0.9494 - val_loss: 1.0700 - val_accuracy: 0.8120\n",
            "Epoch 7/20\n",
            "250/250 [==============================] - 3s 10ms/step - loss: 0.1896 - accuracy: 0.9518 - val_loss: 1.1457 - val_accuracy: 0.8070\n",
            "Epoch 8/20\n",
            "250/250 [==============================] - 3s 11ms/step - loss: 0.1754 - accuracy: 0.9553 - val_loss: 1.1729 - val_accuracy: 0.8030\n",
            "Epoch 9/20\n",
            "250/250 [==============================] - 3s 11ms/step - loss: 0.1671 - accuracy: 0.9543 - val_loss: 1.3589 - val_accuracy: 0.8020\n",
            "Epoch 10/20\n",
            "250/250 [==============================] - 3s 11ms/step - loss: 0.1593 - accuracy: 0.9546 - val_loss: 1.4280 - val_accuracy: 0.8090\n",
            "Epoch 11/20\n",
            "250/250 [==============================] - 3s 12ms/step - loss: 0.1457 - accuracy: 0.9568 - val_loss: 1.4445 - val_accuracy: 0.7920\n",
            "Epoch 12/20\n",
            "250/250 [==============================] - 3s 12ms/step - loss: 0.1384 - accuracy: 0.9580 - val_loss: 1.5291 - val_accuracy: 0.7990\n",
            "Epoch 13/20\n",
            "250/250 [==============================] - 3s 11ms/step - loss: 0.1342 - accuracy: 0.9577 - val_loss: 1.6125 - val_accuracy: 0.8020\n",
            "Epoch 14/20\n",
            "250/250 [==============================] - 3s 11ms/step - loss: 0.1281 - accuracy: 0.9564 - val_loss: 1.9129 - val_accuracy: 0.7890\n",
            "Epoch 15/20\n",
            "250/250 [==============================] - 3s 11ms/step - loss: 0.1268 - accuracy: 0.9577 - val_loss: 1.8568 - val_accuracy: 0.7950\n",
            "Epoch 16/20\n",
            "250/250 [==============================] - 3s 11ms/step - loss: 0.1245 - accuracy: 0.9585 - val_loss: 1.6665 - val_accuracy: 0.7990\n",
            "Epoch 17/20\n",
            "250/250 [==============================] - 3s 11ms/step - loss: 0.1189 - accuracy: 0.9589 - val_loss: 1.8688 - val_accuracy: 0.7980\n",
            "Epoch 18/20\n",
            "250/250 [==============================] - 3s 11ms/step - loss: 0.1136 - accuracy: 0.9594 - val_loss: 2.0371 - val_accuracy: 0.7860\n",
            "Epoch 19/20\n",
            "250/250 [==============================] - 3s 11ms/step - loss: 0.1115 - accuracy: 0.9579 - val_loss: 2.2200 - val_accuracy: 0.7770\n",
            "Epoch 20/20\n",
            "250/250 [==============================] - 3s 11ms/step - loss: 0.1105 - accuracy: 0.9587 - val_loss: 2.1991 - val_accuracy: 0.7920\n"
          ]
        }
      ]
    },
    {
      "cell_type": "markdown",
      "metadata": {
        "id": "Rq5P0gWQ3oh5"
      },
      "source": [
        "In order to dentify when it starts to overfit:"
      ]
    },
    {
      "cell_type": "code",
      "metadata": {
        "id": "EIRFHE0U3oh5",
        "colab": {
          "base_uri": "https://localhost:8080/",
          "height": 295
        },
        "outputId": "e1c60528-cff4-42ba-e500-4462add37335"
      },
      "source": [
        "import matplotlib.pyplot as plt\n",
        "\n",
        "loss = history.history['loss']\n",
        "val_loss = history.history['val_loss']\n",
        "acc = history.history['accuracy']\n",
        "val_acc = history.history['val_accuracy']\n",
        "\n",
        "epochs = range(1, len(acc) + 1)\n",
        "\n",
        "\n",
        "plt.plot(epochs, loss, 'bo', label='Training loss')\n",
        "plt.plot(epochs, val_loss, 'b', label='Validation loss')\n",
        "plt.title('Training and validation loss')\n",
        "plt.xlabel('Epochs')\n",
        "plt.ylabel('Loss')\n",
        "plt.legend()\n",
        "\n",
        "plt.show()"
      ],
      "execution_count": null,
      "outputs": [
        {
          "output_type": "display_data",
          "data": {
            "text/plain": [
              "<Figure size 432x288 with 1 Axes>"
            ],
            "image/png": "[encoded data removed]"
          },
          "metadata": {
            "needs_background": "light"
          }
        }
      ]
    },
    {
      "cell_type": "code",
      "metadata": {
        "id": "M69rtt143oh6",
        "colab": {
          "base_uri": "https://localhost:8080/",
          "height": 295
        },
        "outputId": "11f2f3e8-7488-43e9-c4ca-b994a5b90d09"
      },
      "source": [
        "plt.clf()\n",
        "acc = history.history['accuracy']\n",
        "val_acc = history.history['val_accuracy']\n",
        "\n",
        "plt.plot(epochs, acc, 'bo', label='Training acc')\n",
        "plt.plot(epochs, val_acc, 'b', label='Validation acc')\n",
        "plt.title('Training and validation accuracy')\n",
        "plt.xlabel('Epochs')\n",
        "plt.ylabel('Accuracy')\n",
        "plt.legend()\n",
        "\n",
        "plt.show()"
      ],
      "execution_count": null,
      "outputs": [
        {
          "output_type": "display_data",
          "data": {
            "text/plain": [
              "<Figure size 432x288 with 1 Axes>"
            ],
            "image/png": "[encoded data removed]"
          },
          "metadata": {
            "needs_background": "light"
          }
        }
      ]
    },
    {
      "cell_type": "markdown",
      "metadata": {
        "id": "LUarkgZd3oh7"
      },
      "source": [
        "Training a new network from scratch for fewer epochs before it starts overfitting:"
      ]
    },
    {
      "cell_type": "code",
      "metadata": {
        "id": "IciZ2dMP3oh8",
        "colab": {
          "base_uri": "https://localhost:8080/"
        },
        "outputId": "7a2bdad6-0a90-42db-a99f-c5714f7a9bbb"
      },
      "source": [
        "model = models.Sequential()\n",
        "model.add(layers.Dense(units=64, activation='relu', input_shape=(10000,)))\n",
        "model.add(layers.Dense(units=64, activation='relu'))\n",
        "model.add(layers.Dense(units=46, activation='softmax'))\n",
        "\n",
        "model.compile(\n",
        "    optimizer='rmsprop',\n",
        "    loss='categorical_crossentropy',\n",
        "    metrics=['accuracy']\n",
        ")\n",
        "\n",
        "history = model.fit(\n",
        "    partial_x_train,\n",
        "    partial_y_train,\n",
        "    epochs=4,\n",
        "    validation_data=(x_val,y_val)\n",
        ")"
      ],
      "execution_count": null,
      "outputs": [
        {
          "output_type": "stream",
          "name": "stdout",
          "text": [
            "Epoch 1/4\n",
            "250/250 [==============================] - 4s 12ms/step - loss: 1.4625 - accuracy: 0.6794 - val_loss: 1.0698 - val_accuracy: 0.7560\n",
            "Epoch 2/4\n",
            "250/250 [==============================] - 3s 11ms/step - loss: 0.7595 - accuracy: 0.8299 - val_loss: 0.8877 - val_accuracy: 0.8070\n",
            "Epoch 3/4\n",
            "250/250 [==============================] - 3s 13ms/step - loss: 0.4761 - accuracy: 0.8955 - val_loss: 0.8603 - val_accuracy: 0.8230\n",
            "Epoch 4/4\n",
            "250/250 [==============================] - 3s 11ms/step - loss: 0.3223 - accuracy: 0.9305 - val_loss: 0.9243 - val_accuracy: 0.8220\n"
          ]
        }
      ]
    },
    {
      "cell_type": "markdown",
      "metadata": {
        "id": "FEzjb1m33oiA"
      },
      "source": [
        "## Generating predictions on new data\n",
        "\n"
      ]
    },
    {
      "cell_type": "code",
      "metadata": {
        "id": "lIuTWvUq3oiB",
        "colab": {
          "base_uri": "https://localhost:8080/"
        },
        "outputId": "4dffb212-44f1-4f60-dea3-dba405f15f21"
      },
      "source": [
        "model.predict(x_test)"
      ],
      "execution_count": null,
      "outputs": [
        {
          "output_type": "execute_result",
          "data": {
            "text/plain": [
              "array([[3.95909228e-06, 1.30647939e-04, 7.26927780e-08, ...,\n",
              "        4.29849223e-08, 7.35299068e-07, 9.88626283e-08],\n",
              "       [5.03075626e-08, 3.10173277e-02, 1.83921129e-05, ...,\n",
              "        1.45640826e-11, 5.21126424e-07, 3.93142019e-10],\n",
              "       [2.13406951e-04, 9.61874008e-01, 1.66271185e-03, ...,\n",
              "        1.89649188e-06, 1.53884703e-05, 1.11890367e-04],\n",
              "       ...,\n",
              "       [1.48091078e-06, 3.73345043e-04, 4.67977713e-07, ...,\n",
              "        1.58046749e-08, 1.49457105e-06, 1.50465993e-07],\n",
              "       [3.42369254e-04, 1.67923812e-02, 7.44139485e-04, ...,\n",
              "        8.17145119e-05, 4.58555500e-04, 1.00535886e-04],\n",
              "       [8.64663980e-06, 9.33085859e-01, 8.18499888e-04, ...,\n",
              "        4.73574460e-08, 4.56577400e-05, 3.80688221e-06]], dtype=float32)"
            ]
          },
          "metadata": {},
          "execution_count": 31
        }
      ]
    },
    {
      "cell_type": "markdown",
      "metadata": {
        "id": "O1LzmGXx3oiB"
      },
      "source": [
        "Each entry in `predictions` is a vector of length 46. **The** largest entry is the predicted class, i.e. the class with the highest probability:"
      ]
    },
    {
      "cell_type": "code",
      "metadata": {
        "id": "L3RyKAsw3oiB",
        "colab": {
          "base_uri": "https://localhost:8080/"
        },
        "outputId": "d4f62da3-67f7-4b57-fba8-41b55a51e41f"
      },
      "source": [
        "results = model.evaluate(x_test, one_hot_test_labels)\n",
        "print(results)"
      ],
      "execution_count": null,
      "outputs": [
        {
          "output_type": "stream",
          "name": "stdout",
          "text": [
            "71/71 [==============================] - 0s 4ms/step - loss: 1.0318 - accuracy: 0.7970\n",
            "[1.0317891836166382, 0.796972393989563]\n"
          ]
        }
      ]
    },
    {
      "cell_type": "markdown",
      "metadata": {
        "id": "qJ1JPiTErD7X"
      },
      "source": [
        "\n",
        "## We can observe that our model gets almost an accuracy of 80% on new data, which is considerably good!\n",
        "\n"
      ]
    }
  ]
}